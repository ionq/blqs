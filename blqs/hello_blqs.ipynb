{
 "cells": [
  {
   "cell_type": "markdown",
   "metadata": {},
   "source": [
    "# Hello Blqs\n",
    "\n",
    "In this notebook you will find a simple explanation for the motivation for blqs.  First make sure blqs and cirq are installed."
   ]
  },
  {
   "cell_type": "code",
   "execution_count": 1,
   "metadata": {},
   "outputs": [],
   "source": [
    "try:\n",
    "    import blqs\n",
    "except ImportError:\n",
    "    print(\"installing blqs...\")\n",
    "    !pip install --quiet blqs\n",
    "    print(\"installed blqs.\")\n",
    "    import blqs\n",
    "\n",
    "try:\n",
    "    import cirq\n",
    "except ImportError:\n",
    "    print(\"installing cirq...\")\n",
    "    !pip install --quiet cirq\n",
    "    print(\"installed cirq.\")\n",
    "    import cirq"
   ]
  },
  {
   "cell_type": "markdown",
   "metadata": {},
   "source": [
    "This is an example of how to create a circuit using Cirq.  One sees that one has a base object upon which you append the elements.\n",
    "Qisket and other frameworks follow a similar pattern."
   ]
  },
  {
   "cell_type": "code",
   "execution_count": 2,
   "metadata": {},
   "outputs": [
    {
     "name": "stdout",
     "output_type": "stream",
     "text": [
      "0: ───H───@───\n",
      "          │\n",
      "1: ───H───X───\n"
     ]
    }
   ],
   "source": [
    "q0, q1 = cirq.LineQubit.range(2)\n",
    "circuit = cirq.Circuit()\n",
    "circuit.append(cirq.H(q0))\n",
    "circuit.append([cirq.H(q1), cirq.CX(q0, q1)])\n",
    "print(circuit)"
   ]
  },
  {
   "cell_type": "markdown",
   "metadata": {},
   "source": [
    "Suppose you would like to do something like\n",
    "```python\n",
    "H(0)\n",
    "H(1)\n",
    "for i in range(100):\n",
    "   H(0)\n",
    "   H(1)\n",
    "   CX(0, 1)\n",
    "```\n",
    "Then you do something like this"
   ]
  },
  {
   "cell_type": "code",
   "execution_count": 3,
   "metadata": {},
   "outputs": [
    {
     "name": "stdout",
     "output_type": "stream",
     "text": [
      "          Circuit_0x8c624a579ce341b9:\n",
      "0: ───H───[ 0: ───H───@───          ]──────────────\n",
      "          [           │             ]\n",
      "          [ 1: ───H───X───          ](loops=100)\n",
      "          │\n",
      "1: ───H───#2───────────────────────────────────────\n"
     ]
    }
   ],
   "source": [
    "multi_circuit = cirq.Circuit(\n",
    "    cirq.H(q0), cirq.H(q1), cirq.CircuitOperation(circuit=circuit.freeze(), repetitions=100)\n",
    ")\n",
    "print(multi_circuit)"
   ]
  },
  {
   "cell_type": "markdown",
   "metadata": {},
   "source": [
    "Wouldn't it be nice to be able to do this in idiomatic Python instead of with that code?\n",
    "This is the idea behind blqs:\n",
    "```\n",
    "  BBB   L     QQ     SSSS\n",
    "  B  B  L    Q  Q   S \n",
    "  BBB   L    Q  Q    SSS\n",
    "  B  B  L    Q  Q       S\n",
    "  BBB   LLLL  QQ Q  SSSS\n",
    "```"
   ]
  },
  {
   "cell_type": "code",
   "execution_count": 4,
   "metadata": {},
   "outputs": [],
   "source": [
    "import blqs"
   ]
  },
  {
   "cell_type": "markdown",
   "metadata": {},
   "source": [
    "Let's just give a simple example\n",
    "\n",
    "Define some simple ops. These could be quantum gates like is needed for Cirq above.\n",
    "In general there are specific language you can use, or build your own\n",
    "for what these are.  Here we just use these ops as a simple example."
   ]
  },
  {
   "cell_type": "code",
   "execution_count": 5,
   "metadata": {},
   "outputs": [
    {
     "name": "stdout",
     "output_type": "stream",
     "text": [
      "Program:\n",
      "H 0\n",
      "H 1\n"
     ]
    }
   ],
   "source": [
    "H = blqs.Op(\"H\")\n",
    "CX = blqs.Op(\"CX\")\n",
    "\n",
    "# Now build a program out of these:\n",
    "@blqs.build\n",
    "def hello_blqs():\n",
    "    H(0)\n",
    "    H(1)\n",
    "\n",
    "\n",
    "program = hello_blqs()\n",
    "print(f\"Program:\\n{program}\")"
   ]
  },
  {
   "cell_type": "markdown",
   "metadata": {},
   "source": [
    "What is this program that is returned?"
   ]
  },
  {
   "cell_type": "code",
   "execution_count": 6,
   "metadata": {},
   "outputs": [
    {
     "data": {
      "text/plain": [
       "blqs.program.Program"
      ]
     },
     "execution_count": 6,
     "metadata": {},
     "output_type": "execute_result"
    }
   ],
   "source": [
    "type(program)"
   ]
  },
  {
   "cell_type": "markdown",
   "metadata": {},
   "source": [
    "A program is just a sequence of program statements"
   ]
  },
  {
   "cell_type": "code",
   "execution_count": 7,
   "metadata": {},
   "outputs": [
    {
     "name": "stdout",
     "output_type": "stream",
     "text": [
      "statement 0: H 0\n",
      "statement 1: H 1\n"
     ]
    }
   ],
   "source": [
    "for i, statement in enumerate(program):\n",
    "    print(f\"statement {i}: {statement}\")"
   ]
  },
  {
   "cell_type": "markdown",
   "metadata": {},
   "source": [
    "Notice that we have not had to add these to the program, they have been captured\n",
    "in the decorated function.\n",
    "\n",
    "Programs are just top level Blocks.  We will see blocks are a key component of blqs."
   ]
  },
  {
   "cell_type": "code",
   "execution_count": 8,
   "metadata": {},
   "outputs": [
    {
     "name": "stdout",
     "output_type": "stream",
     "text": [
      "True\n"
     ]
    }
   ],
   "source": [
    "print(isinstance(program, blqs.Block))"
   ]
  },
  {
   "cell_type": "markdown",
   "metadata": {},
   "source": [
    "Now lets build something a bit more interesting."
   ]
  },
  {
   "cell_type": "code",
   "execution_count": 9,
   "metadata": {},
   "outputs": [
    {
     "name": "stdout",
     "output_type": "stream",
     "text": [
      "Program:\n",
      "H 0\n",
      "M 0, R(a)\n",
      "if R(a):\n",
      "  H 0\n",
      "else:\n",
      "  H 1\n"
     ]
    }
   ],
   "source": [
    "M = blqs.Op(\"M\")\n",
    "\n",
    "\n",
    "@blqs.build\n",
    "def hello_conditional_blqs():\n",
    "    H(0)\n",
    "    M(0, blqs.Register(\"a\"))\n",
    "    if blqs.Register(\"a\"):\n",
    "        H(0)\n",
    "    else:\n",
    "        H(1)\n",
    "\n",
    "\n",
    "program = hello_conditional_blqs()\n",
    "print(f\"Program:\\n{program}\")"
   ]
  },
  {
   "cell_type": "markdown",
   "metadata": {},
   "source": [
    "Lets look at this program and its statements."
   ]
  },
  {
   "cell_type": "code",
   "execution_count": 10,
   "metadata": {},
   "outputs": [
    {
     "name": "stdout",
     "output_type": "stream",
     "text": [
      "<class 'blqs.instruction.Instruction'>\n",
      "<class 'blqs.instruction.Instruction'>\n",
      "<class 'blqs.conditional.If'>\n"
     ]
    }
   ],
   "source": [
    "for s in program:\n",
    "    print(type(s))"
   ]
  },
  {
   "cell_type": "markdown",
   "metadata": {},
   "source": [
    "Notice that the third statement is an If object. Lets look at what this is:"
   ]
  },
  {
   "cell_type": "code",
   "execution_count": 11,
   "metadata": {},
   "outputs": [
    {
     "name": "stdout",
     "output_type": "stream",
     "text": [
      "condition: R(a)\n",
      "if block:   H 0\n",
      "else block:   H 1\n"
     ]
    }
   ],
   "source": [
    "if_statement = program[2]\n",
    "print(f\"condition: {if_statement.condition()}\")\n",
    "print(f\"if block: {if_statement.if_block()}\")\n",
    "print(f\"else block: {if_statement.else_block()}\")"
   ]
  },
  {
   "cell_type": "markdown",
   "metadata": {},
   "source": [
    "We see that we have written normal Python, but it has been translated over into \n",
    "an object that contains the Python objects we used in the code.\n",
    "It has captured the condition, as well as the two possible paths for the if.\n",
    " \n",
    "But what if we want to use a \"normal\" Python if?"
   ]
  },
  {
   "cell_type": "code",
   "execution_count": 12,
   "metadata": {},
   "outputs": [
    {
     "name": "stdout",
     "output_type": "stream",
     "text": [
      "a=True program:\n",
      "H 0\n",
      "H 0\n",
      "\n",
      "a=False program:\n",
      "H 0\n",
      "H 1\n"
     ]
    }
   ],
   "source": [
    "@blqs.build\n",
    "def hello_normal_if_blqs(a):\n",
    "    H(0)\n",
    "    if a:\n",
    "        H(0)\n",
    "    else:\n",
    "        H(1)\n",
    "\n",
    "\n",
    "program = hello_normal_if_blqs(True)\n",
    "print(f\"a=True program:\\n{program}\\n\")\n",
    "program = hello_normal_if_blqs(False)\n",
    "print(f\"a=False program:\\n{program}\")"
   ]
  },
  {
   "cell_type": "markdown",
   "metadata": {},
   "source": [
    "We see that we get a program that executed Python and generated the appropriate program.  We can even mix and match."
   ]
  },
  {
   "cell_type": "code",
   "execution_count": null,
   "metadata": {},
   "outputs": [],
   "source": []
  },
  {
   "cell_type": "code",
   "execution_count": 13,
   "metadata": {},
   "outputs": [
    {
     "name": "stdout",
     "output_type": "stream",
     "text": [
      "Program:\n",
      "H 0\n",
      "M 0\n",
      "if R(b):\n",
      "  H 1\n",
      "CX 0, 1\n"
     ]
    }
   ],
   "source": [
    "@blqs.build\n",
    "def hello_mix_match(a):\n",
    "    H(0)\n",
    "    if a:\n",
    "        M(\n",
    "            0,\n",
    "        )\n",
    "        if blqs.Register(\"b\"):\n",
    "            H(1)\n",
    "    else:\n",
    "        H(1)\n",
    "    CX(0, 1)\n",
    "\n",
    "\n",
    "program = hello_mix_match(True)\n",
    "\n",
    "\n",
    "def my_blah():\n",
    "    def my_program():\n",
    "        H(0)\n",
    "\n",
    "    return blqs.build(my_program)()\n",
    "\n",
    "\n",
    "print(f\"Program:\\n{program}\")"
   ]
  },
  {
   "cell_type": "markdown",
   "metadata": {},
   "source": [
    "We can do this for other Python native constructs."
   ]
  },
  {
   "cell_type": "code",
   "execution_count": 14,
   "metadata": {},
   "outputs": [
    {
     "name": "stdout",
     "output_type": "stream",
     "text": [
      "Program:\n",
      "for R(x) in range(4):\n",
      "  H 0\n",
      "  b = R(b)\n",
      "  M 0, R(b)\n",
      "  if R(b):\n",
      "    H 0\n",
      "  else:\n",
      "    H 1\n"
     ]
    }
   ],
   "source": [
    "@blqs.build\n",
    "def hello_for_loop():\n",
    "    # We use a dummy iterable here.\n",
    "    for x in blqs.Iterable(\"range(4)\", blqs.Register(\"x\")):\n",
    "        H(0)\n",
    "        b = blqs.Register(\"b\")\n",
    "        M(0, b)\n",
    "        if b:\n",
    "            H(0)\n",
    "        else:\n",
    "            H(1)\n",
    "\n",
    "\n",
    "program = hello_for_loop()\n",
    "print(f\"Program:\\n{program}\")"
   ]
  },
  {
   "cell_type": "markdown",
   "metadata": {},
   "source": [
    "This could represents the classical controller beside the quantum computer\n",
    "running a for loop over 'x' and then conditional on that value (assume 0=False)\n",
    "we implement H on 0 or on 1."
   ]
  },
  {
   "cell_type": "markdown",
   "metadata": {},
   "source": [
    "Blqs is a framework written to build other frameworks upon. If you'd like to learn more about blqs, a good place to start is the [introduction to blqs](docs/intro.md).  For a concrete application of blqs to Cirq, see [blqs_cirq](../blqs_cirq)."
   ]
  }
 ],
 "metadata": {
  "kernelspec": {
   "display_name": "Python 3 (ipykernel)",
   "language": "python",
   "name": "python3"
  },
  "language_info": {
   "codemirror_mode": {
    "name": "ipython",
    "version": 3
   },
   "file_extension": ".py",
   "mimetype": "text/x-python",
   "name": "python",
   "nbconvert_exporter": "python",
   "pygments_lexer": "ipython3",
   "version": "3.8.10"
  }
 },
 "nbformat": 4,
 "nbformat_minor": 4
}