{
 "cells": [
  {
   "cell_type": "code",
   "execution_count": 1,
   "id": "82618fab-ef9e-4b11-acac-707e291fa51d",
   "metadata": {},
   "outputs": [],
   "source": [
    "import blqs"
   ]
  },
  {
   "cell_type": "code",
   "execution_count": 4,
   "id": "faa820f3-29f8-4d79-be66-f52251a2cea4",
   "metadata": {},
   "outputs": [
    {
     "name": "stdout",
     "output_type": "stream",
     "text": [
      "H 0\n",
      "CX 0, 1\n"
     ]
    }
   ],
   "source": [
    "import blqs\n",
    "\n",
    "H = blqs.Op('H')\n",
    "CX = blqs.Op('CX')\n",
    "\n",
    "@blqs.build\n",
    "def hello_blqs():\n",
    "    H(0)\n",
    "    CX(0, 1)\n",
    "\n",
    "program = hello_blqs()\n",
    "print(program)"
   ]
  },
  {
   "cell_type": "code",
   "execution_count": 5,
   "id": "1177f040-9e5f-4275-9e75-37715b118b66",
   "metadata": {},
   "outputs": [
    {
     "name": "stdout",
     "output_type": "stream",
     "text": [
      "<class 'blqs.program.Program'>\n"
     ]
    }
   ],
   "source": [
    "print(type(program))"
   ]
  },
  {
   "cell_type": "code",
   "execution_count": 7,
   "id": "f8daecdf-24ed-4f5c-b2bb-1372e053b585",
   "metadata": {},
   "outputs": [
    {
     "name": "stdout",
     "output_type": "stream",
     "text": [
      "<class 'blqs.instruction.Instruction'>\n",
      "<class 'blqs.instruction.Instruction'>\n"
     ]
    }
   ],
   "source": [
    "for i in program:\n",
    "    print(type(i))"
   ]
  },
  {
   "cell_type": "code",
   "execution_count": 12,
   "id": "0f9793d1-cfb0-4c8d-9d21-4ba8df19779a",
   "metadata": {},
   "outputs": [
    {
     "name": "stdout",
     "output_type": "stream",
     "text": [
      "a = R(a)\n",
      "H 0\n",
      "M 0, a\n",
      "if R(a):\n",
      "  CX 0, 1\n"
     ]
    }
   ],
   "source": [
    "M = blqs.Op('M')\n",
    "\n",
    "@blqs.build\n",
    "def hello_if_blqs():\n",
    "    a = blqs.Register('a')\n",
    "    H(0)\n",
    "    M(0, 'a')\n",
    "    if a:\n",
    "        CX(0, 1)\n",
    "\n",
    "program = hello_if_blqs()\n",
    "print(program)"
   ]
  },
  {
   "cell_type": "code",
   "execution_count": 13,
   "id": "7987f02b-6619-4fa9-a49e-2a6d07582874",
   "metadata": {},
   "outputs": [
    {
     "name": "stdout",
     "output_type": "stream",
     "text": [
      "<class 'blqs.assignment.Assign'>\n",
      "<class 'blqs.instruction.Instruction'>\n",
      "<class 'blqs.instruction.Instruction'>\n",
      "<class 'blqs.conditional.If'>\n"
     ]
    }
   ],
   "source": [
    "for i in program:\n",
    "    print(type(i))"
   ]
  },
  {
   "cell_type": "code",
   "execution_count": 14,
   "id": "1ba7f780-b2f0-40a6-b18b-a581ff49bc32",
   "metadata": {},
   "outputs": [
    {
     "name": "stdout",
     "output_type": "stream",
     "text": [
      "  CX 0, 1\n"
     ]
    }
   ],
   "source": [
    "print(program[3].if_block())"
   ]
  },
  {
   "cell_type": "code",
   "execution_count": null,
   "id": "c42fe53d-62be-4173-8b6e-a4bd882cff83",
   "metadata": {},
   "outputs": [],
   "source": []
  }
 ],
 "metadata": {
  "kernelspec": {
   "display_name": "Python 3 (ipykernel)",
   "language": "python",
   "name": "python3"
  },
  "language_info": {
   "codemirror_mode": {
    "name": "ipython",
    "version": 3
   },
   "file_extension": ".py",
   "mimetype": "text/x-python",
   "name": "python",
   "nbconvert_exporter": "python",
   "pygments_lexer": "ipython3",
   "version": "3.9.9"
  }
 },
 "nbformat": 4,
 "nbformat_minor": 5
}
